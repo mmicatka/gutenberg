{
 "cells": [
  {
   "cell_type": "markdown",
   "metadata": {},
   "source": [
    "# Gutenberg Metadata\n",
    "Based on https://gist.github.com/andreasvc/b3b4189120d84dec8857\n",
    "\n",
    "This file is consolidated into metadata.py for external use\n"
   ]
  },
  {
   "cell_type": "code",
   "execution_count": 1,
   "metadata": {},
   "outputs": [],
   "source": [
    "from datetime import datetime\n",
    "import pandas as pd\n",
    "import re\n",
    "import gzip\n",
    "import os\n",
    "import tarfile\n",
    "import urllib.request\n",
    "import xml.etree.cElementTree as ElementTree\n",
    "try:\n",
    "    import cPickle as pickle\n",
    "except ImportError:\n",
    "    import pickle"
   ]
  },
  {
   "cell_type": "code",
   "execution_count": 11,
   "metadata": {},
   "outputs": [],
   "source": [
    "DATA_PATH = 'data'\n",
    "RDFFILES = os.path.join(DATA_PATH, 'rdf-files.tar.bz2') # The catalog downloaded from Gutenberg\n",
    "RDFURL = r'http://www.gutenberg.org/cache/epub/feeds/rdf-files.tar.bz2'\n",
    "META_FIELDS = ('id', 'author', 'title', 'downloads', 'LCC',\n",
    "    'subjects', 'authoryearofbirth', 'authoryearofdeath')\n",
    "NS = dict(\n",
    "    pg='http://www.gutenberg.org/2009/pgterms/',\n",
    "    dc='http://purl.org/dc/terms/',\n",
    "    dcam='http://purl.org/dc/dcam/',\n",
    "    rdf='http://www.w3.org/1999/02/22-rdf-syntax-ns#')\n",
    "LINEBREAKRE = re.compile(r'[ \\t]*[\\n\\r]+[ \\t]*')\n",
    "ETEXTRE = re.compile(r'''\n",
    "    e(text|b?ook)\n",
    "    \\s*\n",
    "    (\\#\\s*(?P<etextid_front>\\d+)\n",
    "    |\n",
    "    (?P<etextid_back>\\d+)\\s*\\#)\n",
    "    ''', re.IGNORECASE | re.VERBOSE)"
   ]
  },
  {
   "cell_type": "code",
   "execution_count": 17,
   "metadata": {},
   "outputs": [],
   "source": [
    "def readmetadata(num_books=None):\n",
    "    if num_books:\n",
    "        file_name = os.path.join(DATA_PATH, str(num_books) + '.metadata.pkl.gz')\n",
    "    else:\n",
    "        file_name = os.path.join(DATA_PATH, 'allbooks.metadata.pkl.gz')\n",
    "        \n",
    "    if os.path.exists(file_name):\n",
    "        metadata = pickle.load(gzip.open(file_name, 'rb'))\n",
    "    else:\n",
    "        metadata = pd.DataFrame() # Set to empty for good reasons\n",
    "        for counter, xml in enumerate(getrdfdata()):\n",
    "            if num_books and counter >= num_books:\n",
    "                return metadata\n",
    "            ebook = xml.find(r'{%(pg)s}ebook' % NS)\n",
    "            if ebook is None:\n",
    "                continue\n",
    "            result = parsemetadata(ebook)\n",
    "            if result is not None:\n",
    "                result = pd.DataFrame.from_dict(result, orient='index').transpose()\n",
    "                if not metadata.empty:\n",
    "                    # Not doing this in-place because using loc feels hacky\n",
    "                    metadata = metadata.append(result, ignore_index=True)\n",
    "                else:      \n",
    "                    metadata = result\n",
    "        pickle.dump(metadata, gzip.open(file_name, 'wb'), protocol=-1)\n",
    "    return metadata"
   ]
  },
  {
   "cell_type": "code",
   "execution_count": 4,
   "metadata": {},
   "outputs": [],
   "source": [
    "def getrdfdata():\n",
    "    if not os.path.exists(RDFFILES):\n",
    "        _, _ = urllib.request.urlretrieve(RDFURL, RDFFILES)\n",
    "    with tarfile.open(RDFFILES) as archive:\n",
    "        for tarinfo in archive:\n",
    "            yield ElementTree.parse(archive.extractfile(tarinfo))"
   ]
  },
  {
   "cell_type": "code",
   "execution_count": 5,
   "metadata": {},
   "outputs": [],
   "source": [
    "def parsemetadata(ebook):\n",
    "    result = dict.fromkeys(META_FIELDS)\n",
    "    # get etext no\n",
    "    about = ebook.get('{%(rdf)s}about' % NS)\n",
    "    result['id'] = int(os.path.basename(about))\n",
    "    # author\n",
    "    creator = ebook.find('.//{%(dc)s}creator' % NS)\n",
    "    if creator is not None:\n",
    "        name = creator.find('.//{%(pg)s}name' % NS)\n",
    "        if name is not None:\n",
    "            result['author'] = safeunicode(name.text, encoding='utf-8')\n",
    "        birth = creator.find('.//{%(pg)s}birthdate' % NS)\n",
    "        if birth is not None:\n",
    "            result['authoryearofbirth'] = int(birth.text)\n",
    "        death = creator.find('.//{%(pg)s}deathdate' % NS)\n",
    "        if death is not None:\n",
    "            result['authoryearofdeath'] = int(death.text)\n",
    "    # title\n",
    "    title = ebook.find('.//{%(dc)s}title' % NS)\n",
    "    if title is not None:\n",
    "        result['title'] = fixsubtitles(\n",
    "                safeunicode(title.text, encoding='utf-8'))\n",
    "    # subject lists\n",
    "    result['subjects'], result['LCC'] = set(), set()\n",
    "    for subject in ebook.findall('.//{%(dc)s}subject' % NS):\n",
    "        res = subject.find('.//{%(dcam)s}memberOf' % NS)\n",
    "        if res is None:\n",
    "            continue\n",
    "        res = res.get('{%(rdf)s}resource' % NS)\n",
    "        value = subject.find('.//{%(rdf)s}value' % NS).text\n",
    "        if res == ('%(dc)sLCSH' % NS):\n",
    "            result['subjects'].add(value)\n",
    "        elif res == ('%(dc)sLCC' % NS):\n",
    "            result['LCC'].add(value)\n",
    "            \n",
    "    # download count\n",
    "    downloads = ebook.find('.//{%(pg)s}downloads' % NS)\n",
    "    if downloads is not None:\n",
    "        result['downloads'] = int(downloads.text)\n",
    "    return result"
   ]
  },
  {
   "cell_type": "code",
   "execution_count": 6,
   "metadata": {},
   "outputs": [],
   "source": [
    "def etextno(lines):\n",
    "    for line in lines:\n",
    "        match = ETEXTRE.search(line)\n",
    "        if match is not None:\n",
    "            front_match = match.group('etextid_front')\n",
    "            back_match = match.group('etextid_back')\n",
    "            if front_match is not None:\n",
    "                return int(front_match)\n",
    "            elif back_match is not None:\n",
    "                return int(back_match)\n",
    "            else:\n",
    "                raise ValueError('no regex match (this should never happen')\n",
    "    raise ValueError('no etext-id found')"
   ]
  },
  {
   "cell_type": "code",
   "execution_count": 7,
   "metadata": {},
   "outputs": [],
   "source": [
    "def fixsubtitles(title):\n",
    "    tmp = LINEBREAKRE.sub(': ', title, 1)\n",
    "    return LINEBREAKRE.sub('; ', tmp)"
   ]
  },
  {
   "cell_type": "code",
   "execution_count": 8,
   "metadata": {},
   "outputs": [],
   "source": [
    "def safeunicode(arg, *args, **kwargs):\n",
    "    \"\"\"Coerce argument to unicode, if it's not already.\"\"\"\n",
    "    return arg if isinstance(arg, str) else str(arg, *args, **kwargs)"
   ]
  },
  {
   "cell_type": "code",
   "execution_count": null,
   "metadata": {},
   "outputs": [],
   "source": [
    "time_start = datetime.now()\n",
    "meta_data = readmetadata()\n",
    "print('Read in ' + str(len(meta_data)) + ' books in ' + str(datetime.now() - time_start))\n",
    "print(meta_data.shape)\n"
   ]
  },
  {
   "cell_type": "code",
   "execution_count": null,
   "metadata": {},
   "outputs": [],
   "source": []
  }
 ],
 "metadata": {
  "kernelspec": {
   "display_name": "Python 3",
   "language": "python",
   "name": "python3"
  },
  "language_info": {
   "codemirror_mode": {
    "name": "ipython",
    "version": 3
   },
   "file_extension": ".py",
   "mimetype": "text/x-python",
   "name": "python",
   "nbconvert_exporter": "python",
   "pygments_lexer": "ipython3",
   "version": "3.6.4"
  }
 },
 "nbformat": 4,
 "nbformat_minor": 2
}
