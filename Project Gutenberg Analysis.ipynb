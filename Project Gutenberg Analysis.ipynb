{
 "cells": [
  {
   "cell_type": "markdown",
   "metadata": {},
   "source": [
    "# Project Gutenberg Analysis\n",
    "\n",
    "Explain why and how"
   ]
  },
  {
   "cell_type": "code",
   "execution_count": 26,
   "metadata": {},
   "outputs": [],
   "source": [
    "import numpy as np\n",
    "import pandas as pd\n",
    "import zipfile\n",
    "import sys\n",
    "import os\n",
    "import pickle\n",
    "import gzip\n",
    "from datetime import datetime\n",
    "from metainfo import readmetadata"
   ]
  },
  {
   "cell_type": "code",
   "execution_count": 2,
   "metadata": {},
   "outputs": [],
   "source": [
    "DATA_ROOT = 'data'"
   ]
  },
  {
   "cell_type": "code",
   "execution_count": 3,
   "metadata": {},
   "outputs": [
    {
     "name": "stdout",
     "output_type": "stream",
     "text": [
      "Read in 56809 books in 0:05:58.948278\n",
      "(56809, 8)\n"
     ]
    }
   ],
   "source": [
    "time_start = datetime.now()\n",
    "meta_data = readmetadata()\n",
    "print('Read in ' + str(len(meta_data)) + ' books in ' + str(datetime.now() - time_start))\n",
    "print(meta_data.shape)"
   ]
  },
  {
   "cell_type": "code",
   "execution_count": 4,
   "metadata": {},
   "outputs": [
    {
     "name": "stdout",
     "output_type": "stream",
     "text": [
      "Index(['id', 'author', 'title', 'downloads', 'LCC', 'subjects',\n",
      "       'authoryearofbirth', 'authoryearofdeath'],\n",
      "      dtype='object')\n"
     ]
    }
   ],
   "source": [
    "print(meta_data.columns)"
   ]
  },
  {
   "cell_type": "code",
   "execution_count": 18,
   "metadata": {},
   "outputs": [],
   "source": [
    "def get_book_text(book_id=None):\n",
    "    if not book_id:\n",
    "        print('Please pass in a book_id.')\n",
    "        return\n",
    "    \n",
    "    file_path = os.path.join(DATA_ROOT, 'books', str(book_id) + '.zip')\n",
    "    \n",
    "    if not os.path.isfile(file_path):\n",
    "#         print('File Does Not Exist')\n",
    "        return\n",
    "    \n",
    "    with zipfile.ZipFile(file_path) as myzip:\n",
    "        with myzip.open(str(book_id) + '.txt') as myfile:\n",
    "            # This could be done in one line but split for readability\n",
    "            # Plus, this only needs to be run once per file and the results are then saved\n",
    "            try:\n",
    "                raw_data = myfile.read().decode('utf-8')\n",
    "                # This removes the Project Gutenberg Header\n",
    "                book_text = ''.join(raw_data.split('***')[2:])\n",
    "                # Removes new lines\n",
    "                book_text = book_text.replace('\\n', ' ').replace('\\r', ' ')\n",
    "                return book_text\n",
    "            except:\n",
    "                return None\n",
    "    return None"
   ]
  },
  {
   "cell_type": "code",
   "execution_count": 24,
   "metadata": {},
   "outputs": [],
   "source": [
    "def get_all_books_text():\n",
    "    file_name = os.path.join(DATA_ROOT, 'books.text.pkl.gz')\n",
    "    if os.path.isfile(file_name):\n",
    "        return pickle.load(gzip.open(file_name, 'rb'))\n",
    "    text = {}\n",
    "    for book_id in meta_data['id']:\n",
    "        book_text = get_book_text(book_id=book_id)\n",
    "        if book_text:\n",
    "            text[book_id] = book_text\n",
    "    pickle.dump(text, gzip.open(file_name, 'wb'), protocol=-1)\n",
    "    return text"
   ]
  },
  {
   "cell_type": "code",
   "execution_count": 28,
   "metadata": {},
   "outputs": [
    {
     "name": "stdout",
     "output_type": "stream",
     "text": [
      "loaded 691 books in 0:00:01.428009\n"
     ]
    }
   ],
   "source": [
    "time_start = datetime.now()\n",
    "text = get_all_books_text()\n",
    "print('loaded ' + str(len(text)) + ' books in ' + str(datetime.now() - time_start))"
   ]
  },
  {
   "cell_type": "code",
   "execution_count": null,
   "metadata": {},
   "outputs": [],
   "source": []
  },
  {
   "cell_type": "code",
   "execution_count": null,
   "metadata": {},
   "outputs": [],
   "source": []
  },
  {
   "cell_type": "code",
   "execution_count": null,
   "metadata": {},
   "outputs": [],
   "source": []
  },
  {
   "cell_type": "raw",
   "metadata": {},
   "source": []
  },
  {
   "cell_type": "code",
   "execution_count": null,
   "metadata": {},
   "outputs": [],
   "source": []
  },
  {
   "cell_type": "code",
   "execution_count": null,
   "metadata": {},
   "outputs": [],
   "source": []
  },
  {
   "cell_type": "code",
   "execution_count": null,
   "metadata": {},
   "outputs": [],
   "source": [
    "\n",
    "    "
   ]
  },
  {
   "cell_type": "code",
   "execution_count": null,
   "metadata": {},
   "outputs": [],
   "source": []
  },
  {
   "cell_type": "code",
   "execution_count": null,
   "metadata": {},
   "outputs": [],
   "source": []
  }
 ],
 "metadata": {
  "kernelspec": {
   "display_name": "Python 3",
   "language": "python",
   "name": "python3"
  },
  "language_info": {
   "codemirror_mode": {
    "name": "ipython",
    "version": 3
   },
   "file_extension": ".py",
   "mimetype": "text/x-python",
   "name": "python",
   "nbconvert_exporter": "python",
   "pygments_lexer": "ipython3",
   "version": "3.6.4"
  }
 },
 "nbformat": 4,
 "nbformat_minor": 2
}
