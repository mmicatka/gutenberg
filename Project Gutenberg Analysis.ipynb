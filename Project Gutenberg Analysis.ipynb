{
 "cells": [
  {
   "cell_type": "markdown",
   "metadata": {},
   "source": [
    "# Project Gutenberg Analysis\n",
    "\n",
    "Explain why and how"
   ]
  },
  {
   "cell_type": "code",
   "execution_count": 7,
   "metadata": {
    "ExecuteTime": {
     "end_time": "2018-03-24T03:51:20.629695Z",
     "start_time": "2018-03-24T03:51:20.613671Z"
    }
   },
   "outputs": [],
   "source": [
    "import numpy as np\n",
    "import pandas as pd\n",
    "import zipfile\n",
    "import sys\n",
    "import os\n",
    "import pickle\n",
    "import gzip\n",
    "from datetime import datetime\n",
    "from metainfo import readmetadata\n",
    "import matplotlib as plt\n",
    "\n",
    "\n",
    "from keras.preprocessing.text import Tokenizer\n",
    "from keras.preprocessing.sequence import pad_sequences\n",
    "from sklearn.model_selection import train_test_split, GridSearchCV\n",
    "from keras.wrappers.scikit_learn import KerasClassifier\n",
    "from keras.layers.core import Activation\n",
    "from keras.models import Sequential\n",
    "from keras.layers import Dense, LSTM, Dropout, RNN\n",
    "from keras.layers.embeddings import Embedding"
   ]
  },
  {
   "cell_type": "code",
   "execution_count": 2,
   "metadata": {
    "ExecuteTime": {
     "end_time": "2018-03-24T03:50:26.846710Z",
     "start_time": "2018-03-24T03:50:26.844242Z"
    }
   },
   "outputs": [],
   "source": [
    "DATA_ROOT = 'data'"
   ]
  },
  {
   "cell_type": "code",
   "execution_count": 3,
   "metadata": {
    "ExecuteTime": {
     "end_time": "2018-03-24T03:50:27.384899Z",
     "start_time": "2018-03-24T03:50:27.184114Z"
    }
   },
   "outputs": [
    {
     "name": "stdout",
     "output_type": "stream",
     "text": [
      "Read in 56817 books in 0:00:00.192579\n",
      "(56817, 8)\n"
     ]
    }
   ],
   "source": [
    "time_start = datetime.now()\n",
    "meta_data = readmetadata()\n",
    "print('Read in ' + str(len(meta_data)) + ' books in ' + str(datetime.now() - time_start))\n",
    "print(meta_data.shape)"
   ]
  },
  {
   "cell_type": "code",
   "execution_count": 4,
   "metadata": {
    "ExecuteTime": {
     "end_time": "2018-03-24T03:50:29.876856Z",
     "start_time": "2018-03-24T03:50:29.871409Z"
    }
   },
   "outputs": [
    {
     "name": "stdout",
     "output_type": "stream",
     "text": [
      "Index(['id', 'author', 'title', 'downloads', 'LCC', 'subjects',\n",
      "       'authoryearofbirth', 'authoryearofdeath'],\n",
      "      dtype='object')\n"
     ]
    }
   ],
   "source": [
    "print(meta_data.columns)"
   ]
  },
  {
   "cell_type": "code",
   "execution_count": 5,
   "metadata": {
    "ExecuteTime": {
     "end_time": "2018-03-24T03:50:30.282217Z",
     "start_time": "2018-03-24T03:50:30.248731Z"
    }
   },
   "outputs": [
    {
     "name": "stdout",
     "output_type": "stream",
     "text": [
      "1    22372\n",
      "2    14272\n",
      "3     7136\n",
      "0     4660\n",
      "4     3937\n",
      "Name: subjects, dtype: int64\n"
     ]
    }
   ],
   "source": [
    "# Investigating Metadata\n",
    "subs = meta_data['subjects'].str.len()\n",
    "print(subs.value_counts().head())"
   ]
  },
  {
   "cell_type": "code",
   "execution_count": 12,
   "metadata": {
    "ExecuteTime": {
     "end_time": "2018-03-24T03:52:39.081694Z",
     "start_time": "2018-03-24T03:52:38.850338Z"
    }
   },
   "outputs": [
    {
     "data": {
      "text/plain": [
       "<matplotlib.axes._subplots.AxesSubplot at 0x7fd230395eb8>"
      ]
     },
     "execution_count": 12,
     "metadata": {},
     "output_type": "execute_result"
    },
    {
     "data": {
      "image/png": "[encoded data removed]",
      "text/plain": [
       "<Figure size 432x288 with 1 Axes>"
      ]
     },
     "metadata": {},
     "output_type": "display_data"
    }
   ],
   "source": [
    "subject_list = list()\n",
    "for subjects in meta_data['subjects']:\n",
    "    for subject in subjects:\n",
    "        subject_list.append(subject)\n",
    "    \n",
    "subject_list_series = pd.Series(subject_list)\n",
    "subject_list_series.value_counts().head(10).plot(kind='bar')"
   ]
  },
  {
   "cell_type": "code",
   "execution_count": 58,
   "metadata": {
    "ExecuteTime": {
     "end_time": "2018-03-24T04:18:01.525749Z",
     "start_time": "2018-03-24T04:18:01.455357Z"
    }
   },
   "outputs": [
    {
     "name": "stdout",
     "output_type": "stream",
     "text": [
      "121    {Napoleon I, Emperor of the French, 1769-1821 ...\n",
      "148                                             {Poetry}\n",
      "240                                             {Poetry}\n",
      "311                                             {Poetry}\n",
      "355                                             {Poetry}\n",
      "364                                             {Poetry}\n",
      "387    {Earth (Planet) -- Core -- Fiction, Voyages, I...\n",
      "407                                             {Poetry}\n",
      "408    {Fantasy fiction, Immortalism -- Fiction, Adve...\n",
      "444    {Adventure stories, Voyages around the world -...\n",
      "447    {Kidnapping -- Fiction, Adventure stories, Res...\n",
      "507                                             {Poetry}\n",
      "516    {Girls -- Juvenile fiction, Adventure stories,...\n",
      "575                                             {Poetry}\n",
      "620                                    {Ballads, Poetry}\n",
      "643                          {Poetry, Prisons -- Poetry}\n",
      "677                                             {Poetry}\n",
      "766    {Tramps -- Fiction, Adventure stories, Young m...\n",
      "777    {Jungles -- Fiction, Apes -- Fiction, Fantasy ...\n",
      "825    {Smugglers -- Fiction, Treasure troves -- Fict...\n",
      "Name: subjects, dtype: object\n"
     ]
    }
   ],
   "source": [
    "meta_data_1 = meta_data.copy()\n",
    "meta_data_2 = meta_data.copy()\n",
    "meta_data_1 = meta_data_1[['subjects']].apply(lambda x: list(x))\n",
    "\n",
    "mask = meta_data_1['subjects'].apply(\n",
    "    lambda x: bool(set(x) & set(['Adventure stories', 'Poetry']))\n",
    ")\n",
    "\n",
    "meta_data_3 = meta_data_2[mask]\n",
    "print(meta_data_3['subjects'].head(20))"
   ]
  },
  {
   "cell_type": "code",
   "execution_count": 59,
   "metadata": {
    "ExecuteTime": {
     "end_time": "2018-03-24T04:18:04.851469Z",
     "start_time": "2018-03-24T04:18:04.839666Z"
    }
   },
   "outputs": [
    {
     "name": "stdout",
     "output_type": "stream",
     "text": [
      "        id                             author  \\\n",
      "121  10109  Marquand, John P. (John Phillips)   \n",
      "148  10133              Quiller-Couch, Arthur   \n",
      "240  10216                   Holley, Marietta   \n",
      "311  10280              Dunbar, Paul Laurence   \n",
      "355   1031                       Wilde, Oscar   \n",
      "\n",
      "                                         title downloads   LCC  \\\n",
      "121                  The Unspeakable Gentleman        16  {PS}   \n",
      "148  The Vigil of Venus and Other Poems by \"Q\"        23  {PR}   \n",
      "240                                      Poems         6  {PS}   \n",
      "311  In de Mornin' and Jes Gib Him One Ob Mine        12  {PS}   \n",
      "355                 Charmides, and Other Poems        23  {PR}   \n",
      "\n",
      "                                              subjects authoryearofbirth  \\\n",
      "121  {Napoleon I, Emperor of the French, 1769-1821 ...              1893   \n",
      "148                                           {Poetry}              1863   \n",
      "240                                           {Poetry}              1836   \n",
      "311                                           {Poetry}              1872   \n",
      "355                                           {Poetry}              1854   \n",
      "\n",
      "    authoryearofdeath  \n",
      "121              1960  \n",
      "148              1944  \n",
      "240              1926  \n",
      "311              1906  \n",
      "355              1900  \n"
     ]
    }
   ],
   "source": []
  },
  {
   "cell_type": "code",
   "execution_count": null,
   "metadata": {
    "ExecuteTime": {
     "end_time": "2018-03-24T04:15:24.004476Z",
     "start_time": "2018-03-24T04:15:23.996565Z"
    }
   },
   "outputs": [],
   "source": []
  },
  {
   "cell_type": "code",
   "execution_count": null,
   "metadata": {},
   "outputs": [],
   "source": []
  },
  {
   "cell_type": "code",
   "execution_count": 54,
   "metadata": {
    "ExecuteTime": {
     "end_time": "2018-03-24T04:15:42.284699Z",
     "start_time": "2018-03-24T04:15:42.262058Z"
    }
   },
   "outputs": [],
   "source": [
    "def get_book_text(book_id=None):    \n",
    "    if not book_id:\n",
    "#         print('Please pass in a book_id.')\n",
    "        return\n",
    "    file_path = os.path.join(DATA_ROOT, 'books', str(book_id) + '.zip')\n",
    "    if not os.path.isfile(file_path):\n",
    "#         print('File Does Not Exist')\n",
    "        return\n",
    "    \n",
    "    with zipfile.ZipFile(file_path) as myzip:\n",
    "        # Assuming we are after the only/first file\n",
    "        with myzip.open(myzip.namelist()[0]) as myfile:\n",
    "            # This could be done in one line but split for readability\n",
    "            # Plus, this only needs to be run once per file and the results are then saved\n",
    "            try:\n",
    "                raw_data = myfile.read().decode('utf-8')\n",
    "                # This removes the Project Gutenberg Header\n",
    "                book_text = ''.join(raw_data.split('***')[2:])\n",
    "                # Removes new lines\n",
    "                book_text = book_text.replace('\\n', ' ').replace('\\r', ' ')\n",
    "                return book_text\n",
    "            except:\n",
    "                return None\n",
    "    return None"
   ]
  },
  {
   "cell_type": "code",
   "execution_count": 8,
   "metadata": {
    "ExecuteTime": {
     "end_time": "2018-03-23T18:32:30.195827Z",
     "start_time": "2018-03-23T18:32:30.177725Z"
    }
   },
   "outputs": [],
   "source": [
    "def get_all_books_text(meta_data):\n",
    "    file_name = os.path.join(DATA_ROOT, 'books.text.pkl.gz')\n",
    "    if os.path.isfile(file_name):\n",
    "        return pickle.load(gzip.open(file_name, 'rb'))\n",
    "    text = {}\n",
    "    num_books = len(meta_data)\n",
    "    start_time = datetime.now()\n",
    "    for counter, book_id in enumerate(meta_data['id']):\n",
    "        if counter % 1000 == 0:\n",
    "            print('Processing book %s of %s in %s' % (counter, num_books, datetime.now() - start_time))\n",
    "        book_text = get_book_text(book_id=book_id)\n",
    "        if book_text:\n",
    "            text[book_id] = book_text\n",
    "    pickle.dump(text, gzip.open(file_name, 'wb'), protocol=-1)\n",
    "    return text"
   ]
  },
  {
   "cell_type": "code",
   "execution_count": 29,
   "metadata": {
    "ExecuteTime": {
     "end_time": "2018-03-23T21:58:23.884314Z",
     "start_time": "2018-03-23T21:58:21.690525Z"
    }
   },
   "outputs": [
    {
     "name": "stdout",
     "output_type": "stream",
     "text": [
      "loaded 930 books in 0:00:02.191003\n"
     ]
    }
   ],
   "source": [
    "time_start = datetime.now()\n",
    "text = get_all_books_text(meta_data)\n",
    "print('loaded ' + str(len(text)) + ' books in ' + str(datetime.now() - time_start))"
   ]
  },
  {
   "cell_type": "code",
   "execution_count": 17,
   "metadata": {
    "ExecuteTime": {
     "end_time": "2018-03-23T21:50:08.961623Z",
     "start_time": "2018-03-23T21:50:08.955973Z"
    }
   },
   "outputs": [
    {
     "name": "stdout",
     "output_type": "stream",
     "text": [
      "378296358\n"
     ]
    }
   ],
   "source": [
    "# Checking our length\n",
    "total_length = 0\n",
    "for key in text:\n",
    "    total_length += len(text[key])\n",
    "print(total_length)"
   ]
  },
  {
   "cell_type": "markdown",
   "metadata": {},
   "source": [
    "We want to convert our data from human-readable strings to machine-readable integers. In order to do that we will be using a tokenizer. This converts strings into arrays of numbers where the numbers correspond to the n-most common words and the rest of the words are 0s."
   ]
  },
  {
   "cell_type": "code",
   "execution_count": 20,
   "metadata": {
    "ExecuteTime": {
     "end_time": "2018-03-23T21:55:47.398361Z",
     "start_time": "2018-03-23T21:55:47.392367Z"
    }
   },
   "outputs": [],
   "source": [
    "VOCAB_SIZE = 500"
   ]
  },
  {
   "cell_type": "code",
   "execution_count": 32,
   "metadata": {
    "ExecuteTime": {
     "end_time": "2018-03-23T21:59:16.209104Z",
     "start_time": "2018-03-23T21:58:46.007776Z"
    }
   },
   "outputs": [],
   "source": [
    "tokenizer = Tokenizer(num_words=VOCAB_SIZE)\n",
    "tokenizer.fit_on_texts(text.values())"
   ]
  },
  {
   "cell_type": "code",
   "execution_count": null,
   "metadata": {
    "ExecuteTime": {
     "end_time": "2018-03-23T22:31:26.920468Z",
     "start_time": "2018-03-23T22:31:26.886178Z"
    }
   },
   "outputs": [],
   "source": []
  },
  {
   "cell_type": "code",
   "execution_count": null,
   "metadata": {
    "ExecuteTime": {
     "end_time": "2018-03-24T03:59:08.013075Z",
     "start_time": "2018-03-24T03:59:07.984939Z"
    }
   },
   "outputs": [],
   "source": []
  },
  {
   "cell_type": "code",
   "execution_count": 34,
   "metadata": {
    "ExecuteTime": {
     "end_time": "2018-03-23T22:02:02.880789Z",
     "start_time": "2018-03-23T22:02:02.856742Z"
    }
   },
   "outputs": [],
   "source": [
    "def basic_lstm_model(embedding_vector_length=32, dropout_rate=0.2):\n",
    "    model = Sequential()\n",
    "    model.add(Embedding(VOCAB_SIZE, embedding_vector_length, input_length=MAX_REVIEW_LEN))\n",
    "    model.add(Dropout(dropout_rate))\n",
    "    model.add(LSTM(100))\n",
    "    model.add(Dropout(dropout_rate))\n",
    "    model.add(Dense(1, activation='sigmoid'))\n",
    "    model.compile(loss='binary_crossentropy', optimizer='adam', metrics=['accuracy'])\n",
    "    return model"
   ]
  },
  {
   "cell_type": "code",
   "execution_count": null,
   "metadata": {},
   "outputs": [],
   "source": []
  },
  {
   "cell_type": "code",
   "execution_count": null,
   "metadata": {},
   "outputs": [],
   "source": []
  }
 ],
 "metadata": {
  "kernelspec": {
   "display_name": "Python 3",
   "language": "python",
   "name": "python3"
  },
  "language_info": {
   "codemirror_mode": {
    "name": "ipython",
    "version": 3
   },
   "file_extension": ".py",
   "mimetype": "text/x-python",
   "name": "python",
   "nbconvert_exporter": "python",
   "pygments_lexer": "ipython3",
   "version": "3.6.3"
  }
 },
 "nbformat": 4,
 "nbformat_minor": 2
}
