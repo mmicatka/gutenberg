{
 "cells": [
  {
   "cell_type": "markdown",
   "metadata": {},
   "source": [
    "# Project Gutenberg Analysis\n",
    "\n",
    "Explain why and how"
   ]
  },
  {
   "cell_type": "code",
   "execution_count": null,
   "metadata": {},
   "outputs": [],
   "source": [
    "import numpy as np\n",
    "import pandas as pd\n",
    "import zipfile\n",
    "import sys\n",
    "import os\n",
    "import pickle\n",
    "import gzip\n",
    "from datetime import datetime\n",
    "from metainfo import readmetadata"
   ]
  },
  {
   "cell_type": "code",
   "execution_count": null,
   "metadata": {},
   "outputs": [],
   "source": [
    "DATA_ROOT = 'data'"
   ]
  },
  {
   "cell_type": "code",
   "execution_count": null,
   "metadata": {},
   "outputs": [],
   "source": [
    "time_start = datetime.now()\n",
    "meta_data = readmetadata()\n",
    "print('Read in ' + str(len(meta_data)) + ' books in ' + str(datetime.now() - time_start))\n",
    "print(meta_data.shape)"
   ]
  },
  {
   "cell_type": "code",
   "execution_count": null,
   "metadata": {},
   "outputs": [],
   "source": [
    "print(meta_data.columns)"
   ]
  },
  {
   "cell_type": "code",
   "execution_count": null,
   "metadata": {},
   "outputs": [],
   "source": [
    "def get_book_text(book_id=None):    \n",
    "    if not book_id:\n",
    "#         print('Please pass in a book_id.')\n",
    "        return\n",
    "    file_path = os.path.join(DATA_ROOT, 'books', str(book_id) + '.zip')\n",
    "    if not os.path.isfile(file_path):\n",
    "#         print('File Does Not Exist')\n",
    "        return\n",
    "    \n",
    "    with zipfile.ZipFile(file_path) as myzip:\n",
    "        # Assuming we are after the only/first file\n",
    "        with myzip.open(myzip.namelist()[0]) as myfile:\n",
    "            # This could be done in one line but split for readability\n",
    "            # Plus, this only needs to be run once per file and the results are then saved\n",
    "            try:\n",
    "                raw_data = myfile.read().decode('utf-8')\n",
    "                # This removes the Project Gutenberg Header\n",
    "                book_text = ''.join(raw_data.split('***')[2:])\n",
    "                # Removes new lines\n",
    "                book_text = book_text.replace('\\n', ' ').replace('\\r', ' ')\n",
    "                return book_text\n",
    "            except:\n",
    "                return None\n",
    "    return None"
   ]
  },
  {
   "cell_type": "code",
   "execution_count": null,
   "metadata": {},
   "outputs": [],
   "source": [
    "def get_all_books_text(meta_data):\n",
    "    file_name = os.path.join(DATA_ROOT, 'books.text.pkl.gz')\n",
    "    if os.path.isfile(file_name):\n",
    "        return pickle.load(gzip.open(file_name, 'rb'))\n",
    "    text = {}\n",
    "    num_books = len(meta_data)\n",
    "    start_time = datetime.now()\n",
    "    for counter, book_id in enumerate(meta_data['id']):\n",
    "        if counter % 1000 == 0:\n",
    "            print('Processing book %s of %s in %s' % (counter, num_books, datetime.now() - start_time))\n",
    "        book_text = get_book_text(book_id=book_id)\n",
    "        if book_text:\n",
    "            text[book_id] = book_text\n",
    "    pickle.dump(text, gzip.open(file_name, 'wb'), protocol=-1)\n",
    "    return text"
   ]
  },
  {
   "cell_type": "code",
   "execution_count": null,
   "metadata": {},
   "outputs": [],
   "source": [
    "time_start = datetime.now()\n",
    "text = get_all_books_text(meta_data)\n",
    "print('loaded ' + str(len(text)) + ' books in ' + str(datetime.now() - time_start))"
   ]
  },
  {
   "cell_type": "code",
   "execution_count": null,
   "metadata": {},
   "outputs": [],
   "source": []
  },
  {
   "cell_type": "code",
   "execution_count": null,
   "metadata": {},
   "outputs": [],
   "source": []
  },
  {
   "cell_type": "code",
   "execution_count": null,
   "metadata": {},
   "outputs": [],
   "source": []
  },
  {
   "cell_type": "raw",
   "metadata": {},
   "source": []
  },
  {
   "cell_type": "code",
   "execution_count": null,
   "metadata": {},
   "outputs": [],
   "source": []
  },
  {
   "cell_type": "code",
   "execution_count": null,
   "metadata": {},
   "outputs": [],
   "source": []
  },
  {
   "cell_type": "code",
   "execution_count": null,
   "metadata": {},
   "outputs": [],
   "source": [
    "\n",
    "    "
   ]
  },
  {
   "cell_type": "code",
   "execution_count": null,
   "metadata": {},
   "outputs": [],
   "source": []
  },
  {
   "cell_type": "code",
   "execution_count": null,
   "metadata": {},
   "outputs": [],
   "source": []
  }
 ],
 "metadata": {
  "kernelspec": {
   "display_name": "Python 3",
   "language": "python",
   "name": "python3"
  }
 },
 "nbformat": 4,
 "nbformat_minor": 2
}
